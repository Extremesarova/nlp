{
 "cells": [
  {
   "cell_type": "markdown",
   "id": "464941a0-c342-4b6b-b3bc-71e7cad3f6eb",
   "metadata": {},
   "source": [
    "### 0. Questions"
   ]
  },
  {
   "cell_type": "markdown",
   "id": "0cb3eac9-69c4-43b2-bf28-09d658012839",
   "metadata": {},
   "source": [
    " - What is embedding?\n",
    " - "
   ]
  },
  {
   "cell_type": "markdown",
   "id": "2027fc63-e425-4c3a-b45a-e89e567eae6e",
   "metadata": {},
   "source": [
    "### 1. Import packages"
   ]
  },
  {
   "cell_type": "markdown",
   "id": "cd2cacc5-f7f3-4082-9979-6679e60a39e5",
   "metadata": {},
   "source": [
    "First, let's import needed modules and, random seed (we'll use it if needed) and create some auxiliary functions."
   ]
  },
  {
   "cell_type": "code",
   "execution_count": 235,
   "id": "581b5387-0b6f-4d93-860e-ef0aba2c7579",
   "metadata": {},
   "outputs": [],
   "source": [
    "import pandas as pd\n",
    "import numpy as np\n",
    "from itertools import islice\n",
    "from sklearn.model_selection import train_test_split\n",
    "from sklearn.feature_extraction.text import CountVectorizer\n",
    "from sklearn.feature_extraction.text import TfidfVectorizer\n",
    "\n",
    "SEED=42"
   ]
  },
  {
   "cell_type": "code",
   "execution_count": 13,
   "id": "31d0be56-84d2-4b3d-9123-0b0b41ff10e7",
   "metadata": {},
   "outputs": [],
   "source": [
    "def take(n, iterable):\n",
    "    \"Return first n items of the iterable as a list\"\n",
    "    return list(islice(iterable, n))"
   ]
  },
  {
   "cell_type": "markdown",
   "id": "52826a9c-fd97-48f3-ada4-104915ec76da",
   "metadata": {},
   "source": [
    "### 2. Data preparation"
   ]
  },
  {
   "cell_type": "markdown",
   "id": "0dff2098-0287-41b6-ad17-465a98f9ac96",
   "metadata": {},
   "source": [
    "I'll be using dataset from [Spooky Author Identification](https://www.kaggle.com/c/spooky-author-identification/overview) competition"
   ]
  },
  {
   "cell_type": "markdown",
   "id": "256b5b8b-0ad8-4e21-8f70-ebc9bd317cb4",
   "metadata": {
    "tags": []
   },
   "source": [
    "#### 2.1 Loading the data"
   ]
  },
  {
   "cell_type": "code",
   "execution_count": 14,
   "id": "7ffa751c-18dc-4ce4-a34b-32963e704960",
   "metadata": {},
   "outputs": [],
   "source": [
    "train_df = pd.read_csv('data/train.csv')\n",
    "test_df = pd.read_csv('data/test.csv')"
   ]
  },
  {
   "cell_type": "markdown",
   "id": "4a823ea3-0b17-4fb4-a81b-f79e36e88a59",
   "metadata": {},
   "source": [
    "#### 2.2 Data Fields"
   ]
  },
  {
   "cell_type": "markdown",
   "id": "75cb1cb5-9541-4db5-ab53-d2eb4a422da8",
   "metadata": {},
   "source": [
    "* id - a unique identifier for each sentence\n",
    "* text - some text written by one of the authors\n",
    "* author - the author of the sentence (EAP: Edgar Allan Poe, HPL: HP Lovecraft; MWS: Mary Wollstonecraft Shelley)"
   ]
  },
  {
   "cell_type": "markdown",
   "id": "6e4849f6-e2d4-4ee1-9098-755d7b5f3c74",
   "metadata": {},
   "source": [
    "Let's look at the data"
   ]
  },
  {
   "cell_type": "code",
   "execution_count": 15,
   "id": "7855d2ae-7f71-4cc1-b5b1-bbe01b63d113",
   "metadata": {},
   "outputs": [
    {
     "data": {
      "text/html": [
       "<div>\n",
       "<style scoped>\n",
       "    .dataframe tbody tr th:only-of-type {\n",
       "        vertical-align: middle;\n",
       "    }\n",
       "\n",
       "    .dataframe tbody tr th {\n",
       "        vertical-align: top;\n",
       "    }\n",
       "\n",
       "    .dataframe thead th {\n",
       "        text-align: right;\n",
       "    }\n",
       "</style>\n",
       "<table border=\"1\" class=\"dataframe\">\n",
       "  <thead>\n",
       "    <tr style=\"text-align: right;\">\n",
       "      <th></th>\n",
       "      <th>id</th>\n",
       "      <th>text</th>\n",
       "      <th>author</th>\n",
       "    </tr>\n",
       "  </thead>\n",
       "  <tbody>\n",
       "    <tr>\n",
       "      <th>0</th>\n",
       "      <td>id26305</td>\n",
       "      <td>This process, however, afforded me no means of...</td>\n",
       "      <td>EAP</td>\n",
       "    </tr>\n",
       "    <tr>\n",
       "      <th>1</th>\n",
       "      <td>id17569</td>\n",
       "      <td>It never once occurred to me that the fumbling...</td>\n",
       "      <td>HPL</td>\n",
       "    </tr>\n",
       "    <tr>\n",
       "      <th>2</th>\n",
       "      <td>id11008</td>\n",
       "      <td>In his left hand was a gold snuff box, from wh...</td>\n",
       "      <td>EAP</td>\n",
       "    </tr>\n",
       "    <tr>\n",
       "      <th>3</th>\n",
       "      <td>id27763</td>\n",
       "      <td>How lovely is spring As we looked from Windsor...</td>\n",
       "      <td>MWS</td>\n",
       "    </tr>\n",
       "    <tr>\n",
       "      <th>4</th>\n",
       "      <td>id12958</td>\n",
       "      <td>Finding nothing else, not even gold, the Super...</td>\n",
       "      <td>HPL</td>\n",
       "    </tr>\n",
       "  </tbody>\n",
       "</table>\n",
       "</div>"
      ],
      "text/plain": [
       "        id                                               text author\n",
       "0  id26305  This process, however, afforded me no means of...    EAP\n",
       "1  id17569  It never once occurred to me that the fumbling...    HPL\n",
       "2  id11008  In his left hand was a gold snuff box, from wh...    EAP\n",
       "3  id27763  How lovely is spring As we looked from Windsor...    MWS\n",
       "4  id12958  Finding nothing else, not even gold, the Super...    HPL"
      ]
     },
     "execution_count": 15,
     "metadata": {},
     "output_type": "execute_result"
    }
   ],
   "source": [
    "train_df.head()"
   ]
  },
  {
   "cell_type": "markdown",
   "id": "e7acaa22-858e-4962-a3d9-361228e0c635",
   "metadata": {},
   "source": [
    "For now, I'm going to look only at column text to look at the ways text representation can be done"
   ]
  },
  {
   "cell_type": "markdown",
   "id": "ff621cc0-8965-4b9d-863a-213b997ff0be",
   "metadata": {},
   "source": [
    "#### 2.3 Data Splitting"
   ]
  },
  {
   "cell_type": "markdown",
   "id": "1ed7ab0b-4174-4728-969c-ceb3635c23c5",
   "metadata": {},
   "source": [
    "But nevertheless let's split the data into training and validation sets.  \n",
    "As soon as we have almost $20 000$ rows in `train_df` test size will be limited to $10\\%$"
   ]
  },
  {
   "cell_type": "code",
   "execution_count": 16,
   "id": "b0154461-4b3a-445e-b439-2930233bc107",
   "metadata": {},
   "outputs": [],
   "source": [
    "train, val = train_test_split(train_df, test_size=0.1, random_state=SEED)"
   ]
  },
  {
   "cell_type": "markdown",
   "id": "4a2ac83c-4476-4a0c-abb8-047e51f51947",
   "metadata": {},
   "source": [
    "### 3. Text embeddings"
   ]
  },
  {
   "cell_type": "markdown",
   "id": "b20bed68-aa67-4d14-a45a-1b0956409fbd",
   "metadata": {},
   "source": [
    "#### 3.1 Bag of words"
   ]
  },
  {
   "cell_type": "markdown",
   "id": "a612f62b-d324-4892-904d-72d3a3e719ff",
   "metadata": {
    "tags": []
   },
   "source": [
    "##### 3.1.1 One-hot vectors "
   ]
  },
  {
   "cell_type": "markdown",
   "id": "632d2a19-43a6-42c3-b6d6-b2ec2b48789f",
   "metadata": {},
   "source": [
    "The simplest way of word representation is **one-hot vectors**. For the i-th word in the vocabulary, the vector has 1 on the i-th dimension and 0 on the rest.   \n",
    "Let's do this using sklearn's `CountVectorizer` with `binary=True`"
   ]
  },
  {
   "cell_type": "code",
   "execution_count": 18,
   "id": "b186ea0d-8a8a-4aba-bed2-4dc5059e9699",
   "metadata": {},
   "outputs": [
    {
     "name": "stdout",
     "output_type": "stream",
     "text": [
      "The size of the train dataset is (17621, 24069)\n"
     ]
    }
   ],
   "source": [
    "count_vect = CountVectorizer(binary=True)\n",
    "X_train_oh = count_vect.fit_transform(train['text'])\n",
    "print(f\"The size of the train dataset is {X_train_oh.shape}\")"
   ]
  },
  {
   "cell_type": "markdown",
   "id": "80a67895-fc80-4251-b5e5-bd1c3794a88e",
   "metadata": {},
   "source": [
    "By default, we are not limiting the vocabulary of the model and the length of the vector for every sentence will be $24$ $069$ - number of words in our vocab.\n",
    "Although, it can be done by setting parameter `max_features` to, for example, $10000$. By doing this, vocabulary will be built considering only the top `max_features` ordered by term frequency across the corpus."
   ]
  },
  {
   "cell_type": "code",
   "execution_count": 19,
   "id": "1b66834b-b43c-41ed-bc27-ad31ef1b29d4",
   "metadata": {},
   "outputs": [
    {
     "data": {
      "text/plain": [
       "<17621x24069 sparse matrix of type '<class 'numpy.int64'>'\n",
       "\twith 386417 stored elements in Compressed Sparse Row format>"
      ]
     },
     "execution_count": 19,
     "metadata": {},
     "output_type": "execute_result"
    }
   ],
   "source": [
    "X_train_oh"
   ]
  },
  {
   "cell_type": "markdown",
   "id": "c4346339-6c2b-4a7f-b656-29c62ad0b418",
   "metadata": {},
   "source": [
    "It is also worth to mention, that due to the sparsity of representation (most values in word vectors will be zeros) we can save a lot of memory by only storing the non-zero parts of the feature vectors in memory. `scipy.sparse` matrices are data structures that do exactly this and they are used in `sklearn` package."
   ]
  },
  {
   "cell_type": "code",
   "execution_count": 20,
   "id": "0835806a-fd90-432c-b114-18da4b67c901",
   "metadata": {},
   "outputs": [
    {
     "data": {
      "text/plain": [
       "424119849"
      ]
     },
     "execution_count": 20,
     "metadata": {},
     "output_type": "execute_result"
    }
   ],
   "source": [
    "17621*24069"
   ]
  },
  {
   "cell_type": "markdown",
   "id": "fef0dbef-8b0c-4dad-a68b-84e9ab2c2ef3",
   "metadata": {},
   "source": [
    "In our case only $386$ $417$ of elements out of $424$ $119$ $849$ are non-zero."
   ]
  },
  {
   "cell_type": "code",
   "execution_count": 21,
   "id": "33cc670b-58d1-42ed-9c8c-dde458d946d0",
   "metadata": {},
   "outputs": [
    {
     "data": {
      "text/plain": [
       "(17621, 10000)"
      ]
     },
     "execution_count": 21,
     "metadata": {},
     "output_type": "execute_result"
    }
   ],
   "source": [
    "count_vect_lim_vocab = CountVectorizer(binary=True, max_features=10_000)\n",
    "X_train_oh = count_vect_lim_vocab.fit_transform(train['text'])\n",
    "X_train_oh.shape"
   ]
  },
  {
   "cell_type": "markdown",
   "id": "3ef0aa8a-cbf5-4065-8149-2ec629598d4c",
   "metadata": {},
   "source": [
    "Now, the length of the vector is $10000$."
   ]
  },
  {
   "cell_type": "markdown",
   "id": "e9b62305-0e58-4e9e-b33b-bbb0ef92518b",
   "metadata": {},
   "source": [
    "Let's look at the vector for the first text in our train corpus."
   ]
  },
  {
   "cell_type": "code",
   "execution_count": 23,
   "id": "df405b94-371d-46b9-bfa1-d6c68b251174",
   "metadata": {},
   "outputs": [],
   "source": [
    "first_sentence = val['text'][6148]"
   ]
  },
  {
   "cell_type": "code",
   "execution_count": 24,
   "id": "e24d901b-d0ae-4c31-90a3-1b43e9886f3f",
   "metadata": {},
   "outputs": [
    {
     "data": {
      "text/plain": [
       "<1x24069 sparse matrix of type '<class 'numpy.int64'>'\n",
       "\twith 16 stored elements in Compressed Sparse Row format>"
      ]
     },
     "execution_count": 24,
     "metadata": {},
     "output_type": "execute_result"
    }
   ],
   "source": [
    "one_hot_vector = count_vect.transform([first_sentence])\n",
    "one_hot_vector"
   ]
  },
  {
   "cell_type": "code",
   "execution_count": 25,
   "id": "37edd75b-1795-46f9-b6b6-a221afb16fbf",
   "metadata": {},
   "outputs": [
    {
     "data": {
      "text/plain": [
       "array([[0, 0, 0, ..., 0, 0, 0]], dtype=int64)"
      ]
     },
     "execution_count": 25,
     "metadata": {},
     "output_type": "execute_result"
    }
   ],
   "source": [
    "one_hot_vector = one_hot_vector.toarray()\n",
    "one_hot_vector"
   ]
  },
  {
   "cell_type": "markdown",
   "id": "1c6b4454-cba2-4e07-86ad-4ee95a66a4a3",
   "metadata": {},
   "source": [
    "It is a sparse vector with $24$ $069$ elements with only $16$ elements that are not equal to zero. \n",
    "Let's find out which are they."
   ]
  },
  {
   "cell_type": "code",
   "execution_count": 26,
   "id": "163f00ab-8a9a-453a-a896-5595ebf5cbf3",
   "metadata": {},
   "outputs": [
    {
     "data": {
      "text/plain": [
       "array([  614,   813,  1548,  2128,  5189,  9205, 10643, 12834, 14023,\n",
       "       14557, 20543, 21197, 21300, 21556, 22713, 23613], dtype=int64)"
      ]
     },
     "execution_count": 26,
     "metadata": {},
     "output_type": "execute_result"
    }
   ],
   "source": [
    "indices = np.where(np.any(one_hot_vector!=0, axis=0))[0]\n",
    "indices"
   ]
  },
  {
   "cell_type": "markdown",
   "id": "711b8e60-d43a-477c-9a16-178c3e62d33f",
   "metadata": {},
   "source": [
    "These are the indices of words which are present in our sentence.  \n",
    "Now we are going to create index-to-word dictionary to check the result of the work of `CountVectorizer`"
   ]
  },
  {
   "cell_type": "code",
   "execution_count": 27,
   "id": "585e32cb-1ddb-4ef2-b314-2d276461f389",
   "metadata": {},
   "outputs": [
    {
     "data": {
      "text/plain": [
       "{20160: 'still',\n",
       " 14787: 'others',\n",
       " 10869: 'including',\n",
       " 11721: 'joe',\n",
       " 10157: 'himself',\n",
       " 9894: 'have',\n",
       " 21222: 'theories',\n",
       " 21548: 'too',\n",
       " 23652: 'wild',\n",
       " 813: 'and'}"
      ]
     },
     "execution_count": 27,
     "metadata": {},
     "output_type": "execute_result"
    }
   ],
   "source": [
    "index_to_word = {index : word for word, index in count_vect.vocabulary_.items()}\n",
    "dict(take(10, index_to_word.items()) )"
   ]
  },
  {
   "cell_type": "code",
   "execution_count": 28,
   "id": "f1477509-68cf-4784-aeac-b793232d51a6",
   "metadata": {},
   "outputs": [
    {
     "data": {
      "text/plain": [
       "[(614, 'all', 1),\n",
       " (813, 'and', 1),\n",
       " (1548, 'available', 1),\n",
       " (2128, 'bewildered', 1),\n",
       " (5189, 'dazzled', 1),\n",
       " (9205, 'gigantic', 1),\n",
       " (10643, 'immediately', 1),\n",
       " (12834, 'magnitude', 1),\n",
       " (14023, 'nature', 1),\n",
       " (14557, 'of', 1),\n",
       " (20543, 'sum', 1),\n",
       " (21197, 'the', 1),\n",
       " (21300, 'thought', 1),\n",
       " (21556, 'topic', 1),\n",
       " (22713, 'upon', 1),\n",
       " (23613, 'who', 1)]"
      ]
     },
     "execution_count": 28,
     "metadata": {},
     "output_type": "execute_result"
    }
   ],
   "source": [
    "[(ind, index_to_word[ind], one_hot_vector[0, ind]) for ind in indices]"
   ]
  },
  {
   "cell_type": "markdown",
   "id": "7bc193b3-57cf-4829-9424-a0841befb951",
   "metadata": {},
   "source": [
    "Indeed, these are the indices and corresponding words from our sentence"
   ]
  },
  {
   "cell_type": "markdown",
   "id": "26827458-5e5f-48cb-99c1-fc2fae032fde",
   "metadata": {},
   "source": [
    "Because we've created the `CountVectorizer` with `binary=True`. The elements are really ones and zeros.  "
   ]
  },
  {
   "cell_type": "markdown",
   "id": "d73d0a03-a27f-4def-882b-59ca316df9da",
   "metadata": {},
   "source": [
    "##### 3.1.2 One-hot vectors with counts"
   ]
  },
  {
   "cell_type": "markdown",
   "id": "dc6b28ef-3ba7-40cd-99e4-52d594953c28",
   "metadata": {},
   "source": [
    "A little improvement over that will be using vectorizer with `binary=False`, because this way we will take counts into account."
   ]
  },
  {
   "cell_type": "code",
   "execution_count": 29,
   "id": "5c6158ae-5dc7-4ee0-84d1-f91d3bb5f6d0",
   "metadata": {},
   "outputs": [
    {
     "data": {
      "text/plain": [
       "[(614, 'all', 1),\n",
       " (813, 'and', 2),\n",
       " (1548, 'available', 1),\n",
       " (2128, 'bewildered', 1),\n",
       " (5189, 'dazzled', 1),\n",
       " (9205, 'gigantic', 1),\n",
       " (10643, 'immediately', 1),\n",
       " (12834, 'magnitude', 1),\n",
       " (14023, 'nature', 1),\n",
       " (14557, 'of', 1),\n",
       " (20543, 'sum', 1),\n",
       " (21197, 'the', 4),\n",
       " (21300, 'thought', 1),\n",
       " (21556, 'topic', 1),\n",
       " (22713, 'upon', 1),\n",
       " (23613, 'who', 1)]"
      ]
     },
     "execution_count": 29,
     "metadata": {},
     "output_type": "execute_result"
    }
   ],
   "source": [
    "count_vect = CountVectorizer(binary=False)\n",
    "X_train_cv = count_vect.fit_transform(train['text'])\n",
    "\n",
    "one_hot_vector = count_vect.transform([first_sentence]).toarray()\n",
    "indices = np.where(np.any(one_hot_vector!=0, axis=0))[0]\n",
    "index_to_word = {index : word for word, index in count_vect.vocabulary_.items()}\n",
    "\n",
    "[(ind, index_to_word[ind], one_hot_vector[0, ind]) for ind in indices]\n"
   ]
  },
  {
   "cell_type": "markdown",
   "id": "8553e30c-b37e-44a4-a8ca-b7a2c71ea00a",
   "metadata": {},
   "source": [
    "We can see that now the value for 'the' is 4 and for 'two' it is 2. It doesn't only show that these words are present in the sentence, but also indicate how many times they occur in the sentence."
   ]
  },
  {
   "cell_type": "code",
   "execution_count": 32,
   "id": "f1201b65-a554-45e3-90bf-95b2e4c5f124",
   "metadata": {},
   "outputs": [
    {
     "data": {
      "text/plain": [
       "4"
      ]
     },
     "execution_count": 32,
     "metadata": {},
     "output_type": "execute_result"
    }
   ],
   "source": [
    "tokenizer = count_vect.build_tokenizer()\n",
    "tokenized_sentence = tokenizer(first_sentence.lower())\n",
    "tokenized_sentence.count('the')"
   ]
  },
  {
   "cell_type": "markdown",
   "id": "c827759a-7dc9-4358-9617-31635a650874",
   "metadata": {},
   "source": [
    "##### 3.1.3 N-grams"
   ]
  },
  {
   "cell_type": "markdown",
   "id": "e00ab815-bb23-42a7-a957-26ef2e5081db",
   "metadata": {},
   "source": [
    "We can take into account not only words, but collocations using parameter `ngram_range` to preserve some local ordering, because by using unigrams we don't capture even that.  "
   ]
  },
  {
   "cell_type": "code",
   "execution_count": 33,
   "id": "57503039-5cf5-4a7f-919e-2a9ccf11b8a5",
   "metadata": {},
   "outputs": [
    {
     "name": "stdout",
     "output_type": "stream",
     "text": [
      "The size of the train dataset is (17621, 230440)\n",
      "<bound method _data_matrix.count_nonzero of <17621x230440 sparse matrix of type '<class 'numpy.int64'>'\n",
      "\twith 813907 stored elements in Compressed Sparse Row format>>\n",
      "[(4324, 'all', 1), (4855, 'all who', 1), (7667, 'and', 2), (8116, 'and bewildered', 1), (12202, 'and the', 1), (19515, 'available', 1), (25467, 'bewildered', 1), (45745, 'dazzled', 1), (75382, 'gigantic', 1), (93018, 'immediately', 1), (112540, 'magnitude', 1), (112541, 'magnitude and', 1), (124876, 'nature', 1), (124942, 'nature of', 1), (131308, 'of', 1), (134836, 'of the', 1), (181040, 'sum', 1), (186670, 'the', 4), (189413, 'the gigantic', 1), (192991, 'the sum', 1), (193291, 'the topic', 1), (199054, 'thought', 1), (199173, 'thought upon', 1), (203935, 'topic', 1), (209892, 'upon', 1), (210124, 'upon the', 1), (222194, 'who', 1), (222471, 'who thought', 1)]\n"
     ]
    }
   ],
   "source": [
    "bigram_count_vect = CountVectorizer(binary=False, ngram_range=(1,2))\n",
    "X_train_bigram = bigram_count_vect.fit_transform(train['text'])\n",
    "print(f\"The size of the train dataset is {X_train_bigram.shape}\")\n",
    "print(X_train_bigram.count_nonzero)\n",
    "one_hot_vector = bigram_count_vect.transform([first_sentence]).toarray()\n",
    "indices = np.where(np.any(one_hot_vector!=0, axis=0))[0]\n",
    "index_to_word = {index : word for word, index in bigram_count_vect.vocabulary_.items()}\n",
    "\n",
    "print([(ind, index_to_word[ind], one_hot_vector[0, ind]) for ind in indices])"
   ]
  },
  {
   "cell_type": "markdown",
   "id": "e7c8e685-d4dc-4fd3-997a-922dfe4db161",
   "metadata": {},
   "source": [
    "By including bigrams into calculations the size of the vector increased from $24$ $069$ to $230$ $440$, but we still can limit it using `max_features` parameter, so it is not a big deal."
   ]
  },
  {
   "cell_type": "markdown",
   "id": "46081855-8f7a-48ea-8ed9-57e022fcab07",
   "metadata": {},
   "source": [
    "##### 3.1.4 Stopwords"
   ]
  },
  {
   "cell_type": "markdown",
   "id": "a23cf3fb-1182-4d94-ba3a-560762803d9c",
   "metadata": {},
   "source": [
    "Removing or not removing stopwords is a controversial topic..."
   ]
  },
  {
   "cell_type": "markdown",
   "id": "1766375f-9b1e-4f6d-9bd4-d96f33e295c6",
   "metadata": {},
   "source": [
    "##### 3.1.5 Advantages and disadvantages"
   ]
  },
  {
   "cell_type": "markdown",
   "id": "3b22f247-c293-4bad-a549-7153c2afd529",
   "metadata": {},
   "source": [
    "$\"+\"$:\n",
    "1. Fast to train (actually, there is no training done - just counting)\n",
    "\n",
    "$\"-\"$:\n",
    "1. Vector dimensionality is equal to vocabulary size (`max_features`) \n",
    "2. Longer documents will have higher average count values than shorter documents, even though they might talk about the same topics\n",
    "3. **One-hot vectors don't capture meaning**"
   ]
  },
  {
   "cell_type": "markdown",
   "id": "c2bf817e-aa93-4980-8cf3-6fd9e087f51a",
   "metadata": {},
   "source": [
    "#### 3.2 TF-IDF"
   ]
  },
  {
   "cell_type": "markdown",
   "id": "1a597f7c-fc26-4512-982d-49fd02f5c10f",
   "metadata": {},
   "source": [
    "To address second issue of bag of words approach and in attempt of trying to deal with common words (stopwords) without deleting them the next approach can be used.  \n",
    "\n",
    "Tf means term-frequency while tf–idf means term-frequency times inverse document-frequency   \n",
    "\n",
    "$$ \\large tf-idf(t,d) = tf(i,d) * idf(t)$$  \n",
    "Term frequency is $$ \\large tf(i,d) = \\frac{wordCount(t,d)}{length(d)}$$ \n",
    "where \n",
    "* `wordCount(t,d)` is the number of occurrences of term *t* in the document *d*\n",
    "* `length(d)` is the number of words in the document *d*  \n",
    "\n",
    "Inverse document-frequency is $$ \\large idf(t, c) = \\frac{size(c)}{docCount(t, c)}$$ \n",
    "where \n",
    "* `size(c)` is the number of documents in the corpora *c*\n",
    "* `docCount(t, c)` is the number of documents in corpora *c* containing the term *t*  \n",
    "\n",
    "In real life tf-idf is computed differently:\n",
    "$$ \\large tf(i,d) = \\log{ \\left(1 + \\frac{wordCount(t,d)}{length(d)}\\right)}$$ \n",
    "$$ \\large idf(t, c) = \\log{\\left(1 + \\frac{1 + size(c)}{1 + docCount(t, c)}\\right)}$$ \n",
    "\n",
    "The reason to use `log` here is this. "
   ]
  },
  {
   "cell_type": "code",
   "execution_count": 225,
   "id": "256b7a89-4979-4469-8e9f-a28cd462282d",
   "metadata": {},
   "outputs": [
    {
     "name": "stdout",
     "output_type": "stream",
     "text": [
      "The size of the train dataset is (17621, 24069)\n"
     ]
    }
   ],
   "source": [
    "tfidf_vect = TfidfVectorizer()\n",
    "X_train_tf_idf = tfidf_vect.fit_transform(train['text'])\n",
    "print(f\"The size of the train dataset is {X_train_tf_idf.shape}\")"
   ]
  },
  {
   "cell_type": "code",
   "execution_count": 226,
   "id": "81173fba-5399-40fb-86fe-6dde8ae9cd65",
   "metadata": {},
   "outputs": [
    {
     "data": {
      "text/plain": [
       "<17621x24069 sparse matrix of type '<class 'numpy.float64'>'\n",
       "\twith 386417 stored elements in Compressed Sparse Row format>"
      ]
     },
     "execution_count": 226,
     "metadata": {},
     "output_type": "execute_result"
    }
   ],
   "source": [
    "X_train_tf_idf"
   ]
  },
  {
   "cell_type": "code",
   "execution_count": 227,
   "id": "da35a131-a399-4643-89a8-45d8d1a4260b",
   "metadata": {},
   "outputs": [
    {
     "data": {
      "text/plain": [
       "<1x24069 sparse matrix of type '<class 'numpy.float64'>'\n",
       "\twith 16 stored elements in Compressed Sparse Row format>"
      ]
     },
     "execution_count": 227,
     "metadata": {},
     "output_type": "execute_result"
    }
   ],
   "source": [
    "tfidf_vect.transform([first_sentence])"
   ]
  },
  {
   "cell_type": "code",
   "execution_count": 228,
   "id": "b20f545b-cbae-4a95-a044-37269b46dc88",
   "metadata": {},
   "outputs": [
    {
     "data": {
      "text/plain": [
       "{20160: 'still',\n",
       " 14787: 'others',\n",
       " 10869: 'including',\n",
       " 11721: 'joe',\n",
       " 10157: 'himself',\n",
       " 9894: 'have',\n",
       " 21222: 'theories',\n",
       " 21548: 'too',\n",
       " 23652: 'wild',\n",
       " 813: 'and'}"
      ]
     },
     "execution_count": 228,
     "metadata": {},
     "output_type": "execute_result"
    }
   ],
   "source": [
    "index_to_word = {index : word for word, index in tfidf_vect.vocabulary_.items()}\n",
    "dict(take(10, index_to_word.items()) )"
   ]
  },
  {
   "cell_type": "code",
   "execution_count": 229,
   "id": "3223bca9-daa5-4af9-8c3b-20818ca9714f",
   "metadata": {},
   "outputs": [
    {
     "data": {
      "text/plain": [
       "<1x24069 sparse matrix of type '<class 'numpy.float64'>'\n",
       "\twith 16 stored elements in Compressed Sparse Row format>"
      ]
     },
     "execution_count": 229,
     "metadata": {},
     "output_type": "execute_result"
    }
   ],
   "source": [
    "tfidf_vector = tfidf_vect.transform([first_sentence])\n",
    "tfidf_vector"
   ]
  },
  {
   "cell_type": "code",
   "execution_count": 230,
   "id": "7861bfdd-4fb1-4e86-b3e1-83ba06663f3e",
   "metadata": {},
   "outputs": [
    {
     "data": {
      "text/plain": [
       "array([[0., 0., 0., ..., 0., 0., 0.]])"
      ]
     },
     "execution_count": 230,
     "metadata": {},
     "output_type": "execute_result"
    }
   ],
   "source": [
    "tfidf_vector = tfidf_vector.toarray()\n",
    "tfidf_vector"
   ]
  },
  {
   "cell_type": "code",
   "execution_count": 231,
   "id": "5a6e09e7-e84e-4db9-856f-304c789a4175",
   "metadata": {},
   "outputs": [
    {
     "data": {
      "text/plain": [
       "array([  614,   813,  1548,  2128,  5189,  9205, 10643, 12834, 14023,\n",
       "       14557, 20543, 21197, 21300, 21556, 22713, 23613], dtype=int64)"
      ]
     },
     "execution_count": 231,
     "metadata": {},
     "output_type": "execute_result"
    }
   ],
   "source": [
    "indices = np.where(np.any(tfidf_vector!=0, axis=0))[0]\n",
    "indices"
   ]
  },
  {
   "cell_type": "code",
   "execution_count": 232,
   "id": "13944345-6a7a-43c3-afa7-a135ed1d6512",
   "metadata": {},
   "outputs": [
    {
     "data": {
      "text/plain": [
       "[(614, 'all', 0.13031453897504672),\n",
       " (813, 'and', 0.12214845066990851),\n",
       " (1548, 'available', 0.3924242175008267),\n",
       " (2128, 'bewildered', 0.3114996887796031),\n",
       " (5189, 'dazzled', 0.36544937459375215),\n",
       " (9205, 'gigantic', 0.2695648987205094),\n",
       " (10643, 'immediately', 0.23647294743920957),\n",
       " (12834, 'magnitude', 0.32608143594739347),\n",
       " (14023, 'nature', 0.2049931029681656),\n",
       " (14557, 'of', 0.059811003957834306),\n",
       " (20543, 'sum', 0.3009169879304377),\n",
       " (21197, 'the', 0.20393197647953104),\n",
       " (21300, 'thought', 0.18711801923161203),\n",
       " (21556, 'topic', 0.2973766872628445),\n",
       " (22713, 'upon', 0.14506693111726507),\n",
       " (23613, 'who', 0.16239686486865726)]"
      ]
     },
     "execution_count": 232,
     "metadata": {},
     "output_type": "execute_result"
    }
   ],
   "source": [
    "[(ind, index_to_word[ind], tfidf_vector[0, ind]) for ind in indices]"
   ]
  },
  {
   "cell_type": "markdown",
   "id": "4147fad0-2da3-4fb6-a1e8-7bb3352d2020",
   "metadata": {},
   "source": [
    "##### 3.2.1 TF-IDF implementation"
   ]
  },
  {
   "cell_type": "code",
   "execution_count": 233,
   "id": "35ab9fa5-fbf6-498a-9ef0-c8b37ac82070",
   "metadata": {},
   "outputs": [
    {
     "name": "stdout",
     "output_type": "stream",
     "text": [
      "['the', 'gigantic', 'magnitude', 'and', 'the', 'immediately', 'available', 'nature', 'of', 'the', 'sum', 'dazzled', 'and', 'bewildered', 'all', 'who', 'thought', 'upon', 'the', 'topic']\n",
      "['of', 'dazzled', 'nature', 'thought', 'magnitude', 'gigantic', 'topic', 'bewildered', 'upon', 'all', 'the', 'who', 'and', 'available', 'sum', 'immediately']\n"
     ]
    }
   ],
   "source": [
    "tfidf_tokenizer = tfidf_vect.build_tokenizer()\n",
    "first_sentence_tokenized = tfidf_tokenizer(first_sentence.lower())\n",
    "print(first_sentence_tokenized)\n",
    "first_sentence_tokenized_set = list(set(first_sentence_tokenized))\n",
    "print(first_sentence_tokenized_set)"
   ]
  },
  {
   "cell_type": "code",
   "execution_count": 239,
   "id": "4c3dc334-7b3e-44b6-9446-cb191a9da3e9",
   "metadata": {},
   "outputs": [],
   "source": [
    "def tf(tokenized_text, term):\n",
    "    return tokenized_text.count(term) / len(tokenized_text)\n",
    "\n",
    "def idf(texts, term, tokenizer):\n",
    "    size = len(texts)\n",
    "    doc_count = sum([1 if term in tokenizer(text.lower()) else 0 for text in texts])\n",
    "    \n",
    "    return np.log((1 + size) / (1 + doc_count)) + 1\n",
    "\n",
    "def tf_idf(tf, idf):\n",
    "    return tf * idf"
   ]
  },
  {
   "cell_type": "code",
   "execution_count": 240,
   "id": "fd26cc47-e247-4cb2-96dd-3a6a28dcba3c",
   "metadata": {},
   "outputs": [],
   "source": [
    "tf_idf_first_sentece = []\n",
    "for word in first_sentence_tokenized_set:\n",
    "    tf_ = tf(first_sentence_tokenized, word)\n",
    "    idf_ = idf(train['text'], word, tfidf_tokenizer)\n",
    "    tf_idf_first_sentece.append(tf_idf(tf_, idf_))"
   ]
  },
  {
   "cell_type": "code",
   "execution_count": 241,
   "id": "4c22c01c-27fe-48fb-a803-bdbdb77cf832",
   "metadata": {},
   "outputs": [],
   "source": [
    "tf_idf_first_sentece = np.array(tf_idf_first_sentece)\n",
    "l2_norm = np.sqrt(np.sum(tf_idf_first_sentece**2))\n",
    "tf_idf_first_sentece = tf_idf_first_sentece / l2_norm\n",
    "tf_idf_first_sentence_dict = dict(zip(first_sentence_tokenized_set, tf_idf_first_sentece))"
   ]
  },
  {
   "cell_type": "code",
   "execution_count": 242,
   "id": "1651ecaa-68b1-4e42-b33b-cf23e5c7dd3f",
   "metadata": {},
   "outputs": [
    {
     "data": {
      "text/plain": [
       "[(614, 'all', 0.13031453897504672),\n",
       " (813, 'and', 0.12214845066990852),\n",
       " (1548, 'available', 0.3924242175008267),\n",
       " (2128, 'bewildered', 0.3114996887796031),\n",
       " (5189, 'dazzled', 0.36544937459375215),\n",
       " (9205, 'gigantic', 0.2695648987205094),\n",
       " (10643, 'immediately', 0.23647294743920957),\n",
       " (12834, 'magnitude', 0.32608143594739347),\n",
       " (14023, 'nature', 0.2049931029681656),\n",
       " (14557, 'of', 0.05981100395783431),\n",
       " (20543, 'sum', 0.3009169879304377),\n",
       " (21197, 'the', 0.20393197647953104),\n",
       " (21300, 'thought', 0.18711801923161206),\n",
       " (21556, 'topic', 0.2973766872628445),\n",
       " (22713, 'upon', 0.1450669311172651),\n",
       " (23613, 'who', 0.16239686486865726)]"
      ]
     },
     "execution_count": 242,
     "metadata": {},
     "output_type": "execute_result"
    }
   ],
   "source": [
    "[(ind, index_to_word[ind], tf_idf_first_sentence_dict[index_to_word[ind]]) for ind in indices]"
   ]
  },
  {
   "cell_type": "markdown",
   "id": "760c80bf-6cc5-47e8-b0f0-264877fa5843",
   "metadata": {},
   "source": [
    "### TODO: \n",
    "* Finish item 3.1.4 about using stopwords \n",
    "* Add the reason to use logarithms for tf-idf (sublinear tf, etc.)\n",
    "* Write down questions\n",
    "    * bag of words\n",
    "    * tf-idf\n",
    "* refactor tf-idf implementation (make class for it, move it to its own file)"
   ]
  },
  {
   "cell_type": "code",
   "execution_count": null,
   "id": "2164732d-a380-4489-ac15-6614d3b45de8",
   "metadata": {},
   "outputs": [],
   "source": [
    "np.log2(1_000_000)"
   ]
  },
  {
   "cell_type": "code",
   "execution_count": null,
   "id": "c1b36c69-a189-4dba-8b26-917fc7043687",
   "metadata": {},
   "outputs": [],
   "source": [
    "np.log2(2_000_000)"
   ]
  }
 ],
 "metadata": {
  "kernelspec": {
   "display_name": "nlp",
   "language": "python",
   "name": "nlp"
  },
  "language_info": {
   "codemirror_mode": {
    "name": "ipython",
    "version": 3
   },
   "file_extension": ".py",
   "mimetype": "text/x-python",
   "name": "python",
   "nbconvert_exporter": "python",
   "pygments_lexer": "ipython3",
   "version": "3.8.10"
  }
 },
 "nbformat": 4,
 "nbformat_minor": 5
}
